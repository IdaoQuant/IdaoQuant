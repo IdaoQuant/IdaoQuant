{
 "cells": [
  {
   "cell_type": "code",
   "execution_count": null,
   "metadata": {},
   "outputs": [],
   "source": [
    "%load_ext line_profiler"
   ]
  },
  {
   "cell_type": "code",
   "execution_count": null,
   "metadata": {},
   "outputs": [],
   "source": [
    "%load_ext autoreload\n",
    "%autoreload 2"
   ]
  },
  {
   "cell_type": "code",
   "execution_count": null,
   "metadata": {},
   "outputs": [],
   "source": [
    "%env PROJPATH=/Users/pro/towh/TdxPlugin/\n",
    "%env OBJC_DISABLE_INITIALIZE_FORK_SAFETY=YES"
   ]
  },
  {
   "cell_type": "code",
   "execution_count": null,
   "metadata": {},
   "outputs": [],
   "source": [
    "import main as m\n",
    "main = m.Main()\n",
    "%lprun -f main.mainloop main.mainloop()"
   ]
  },
  {
   "cell_type": "code",
   "execution_count": null,
   "metadata": {},
   "outputs": [],
   "source": [
    "import api.storage as st\n",
    "storage = st.Storage()\n",
    "%lprun -f storage.get_histdata_single storage.get_histdata_single('600805.SH')"
   ]
  },
  {
   "cell_type": "code",
   "execution_count": null,
   "metadata": {},
   "outputs": [],
   "source": [
    "import api.storage as st\n",
    "import core.realtime.explode as ex\n",
    "storage = st.Storage()\n",
    "time_share_explotion = ex.TimeShareExplosion()\n",
    "storage.update_realtime_storage()\n",
    "for code in tm.ts_mapping:\n",
    "    time_share_explotion.detect_timeshare_explode(storage, code)\n",
    "def traverse_all():\n",
    "    for code in tm.ts_mapping:\n",
    "        time_share_explotion.detect_timeshare_explode(storage, code)\n",
    "%lprun -f traverse_all traverse_all()"
   ]
  },
  {
   "cell_type": "code",
   "execution_count": null,
   "metadata": {},
   "outputs": [],
   "source": [
    "import core.realtime.neckline as nl\n",
    "import api.storage as st\n",
    "storage = st.Storage()\n",
    "storage.update_realtime_storage()\n",
    "neckline = nl.NeckLine(storage)\n",
    "neckline.update_local_price(['600789', '000078', '300342'], [])\n",
    "%lprun -f neckline.detect_long_neckline neckline.detect_long_neckline(['600789', '000078', '300342'], [])"
   ]
  },
  {
   "cell_type": "code",
   "execution_count": null,
   "metadata": {},
   "outputs": [],
   "source": [
    "import util.eval_freq as ef\n",
    "ef.get_attack_distribution(\"/Users/pro/Nextcloud/log/20200207-utf8.log\")"
   ]
  },
  {
   "cell_type": "code",
   "execution_count": 26,
   "metadata": {},
   "outputs": [
    {
     "data": {
      "text/plain": [
       "(['2020-02-07 09:34:52.740000',\n",
       "  '2020-02-07 09:48:44.663000',\n",
       "  '2020-02-07 10:05:43.659000',\n",
       "  '2020-02-07 10:06:08.638000',\n",
       "  '2020-02-07 10:07:14.597000',\n",
       "  '2020-02-07 10:13:22.211000',\n",
       "  '2020-02-07 10:13:46.287000',\n",
       "  '2020-02-07 10:19:57.702000',\n",
       "  '2020-02-07 10:20:36.347000',\n",
       "  '2020-02-07 10:21:29.042000',\n",
       "  '2020-02-07 14:11:07.184000',\n",
       "  '2020-02-07 14:12:10.344000'],\n",
       " ['2020-02-07 09:34:49.347000',\n",
       "  '2020-02-07 09:48:43.402000',\n",
       "  '2020-02-07 10:01:38.244000',\n",
       "  '2020-02-07 10:05:43.163000',\n",
       "  '2020-02-07 10:06:07.687000',\n",
       "  '2020-02-07 10:07:14.172000',\n",
       "  '2020-02-07 10:13:21.383000',\n",
       "  '2020-02-07 10:13:45.799000',\n",
       "  '2020-02-07 10:19:56.872000',\n",
       "  '2020-02-07 10:20:35.518000',\n",
       "  '2020-02-07 10:21:28.083000',\n",
       "  '2020-02-07 11:29:17.906000',\n",
       "  '2020-02-07 13:02:49.642000',\n",
       "  '2020-02-07 14:11:06.760000',\n",
       "  '2020-02-07 14:12:09.911000',\n",
       "  '2020-02-07 14:31:07.900000',\n",
       "  '2020-02-07 14:33:04.032000',\n",
       "  '2020-02-07 14:42:44.833000',\n",
       "  '2020-02-07 14:45:08.987000',\n",
       "  '2020-02-07 14:45:51.130000',\n",
       "  '2020-02-07 14:46:01.729000',\n",
       "  '2020-02-07 14:46:05.219000',\n",
       "  '2020-02-07 14:46:08.684000',\n",
       "  '2020-02-07 14:46:15.627000',\n",
       "  '2020-02-07 14:46:19.138000',\n",
       "  '2020-02-07 14:46:22.642000',\n",
       "  '2020-02-07 14:46:26.289000',\n",
       "  '2020-02-07 14:46:29.761000',\n",
       "  '2020-02-07 14:46:33.258000',\n",
       "  '2020-02-07 14:46:36.732000',\n",
       "  '2020-02-07 14:46:40.344000'])"
      ]
     },
     "execution_count": 26,
     "metadata": {},
     "output_type": "execute_result"
    }
   ],
   "source": [
    "import util.eval_freq as ef\n",
    "ef.get_attack_time_list('002436',\"/Users/pro/Nextcloud/log/20200207-utf8.log\")"
   ]
  },
  {
   "cell_type": "code",
   "execution_count": null,
   "metadata": {},
   "outputs": [],
   "source": [
    "import api.storage as st\n",
    "import core.realtime.open_high as oh\n",
    "storage = st.Storage()\n",
    "storage.update_realtime_storage()\n",
    "%lprun -f oh.detect_high_open_explosion oh.detect_high_open_explosion(storage, '603880')"
   ]
  }
 ],
 "metadata": {
  "kernelspec": {
   "display_name": "venv",
   "language": "python",
   "name": "venv"
  },
  "language_info": {
   "codemirror_mode": {
    "name": "ipython",
    "version": 3
   },
   "file_extension": ".py",
   "mimetype": "text/x-python",
   "name": "python",
   "nbconvert_exporter": "python",
   "pygments_lexer": "ipython3",
   "version": "3.7.4"
  }
 },
 "nbformat": 4,
 "nbformat_minor": 4
}
