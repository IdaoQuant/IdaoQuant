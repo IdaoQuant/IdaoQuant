{
 "cells": [
  {
   "cell_type": "code",
   "execution_count": null,
   "metadata": {},
   "outputs": [],
   "source": [
    "%load_ext line_profiler"
   ]
  },
  {
   "cell_type": "code",
   "execution_count": 2,
   "metadata": {},
   "outputs": [],
   "source": [
    "%load_ext autoreload\n",
    "%autoreload 2"
   ]
  },
  {
   "cell_type": "code",
   "execution_count": 1,
   "metadata": {},
   "outputs": [
    {
     "name": "stdout",
     "output_type": "stream",
     "text": [
      "env: TOKEN=301b9541eb8e20469a605257cb936b7ab0dd3e1b7cf54db0c3491615\n",
      "env: PROJPATH=/Users/pro/towh/TdxPlugin/\n",
      "env: OBJC_DISABLE_INITIALIZE_FORK_SAFETY=YES\n"
     ]
    }
   ],
   "source": [
    "%env TOKEN=301b9541eb8e20469a605257cb936b7ab0dd3e1b7cf54db0c3491615\n",
    "%env PROJPATH=/Users/pro/towh/TdxPlugin/\n",
    "%env OBJC_DISABLE_INITIALIZE_FORK_SAFETY=YES"
   ]
  },
  {
   "cell_type": "code",
   "execution_count": null,
   "metadata": {},
   "outputs": [],
   "source": [
    "import main as m\n",
    "main = m.Main()\n",
    "%lprun -f main.mainloop main.mainloop()"
   ]
  },
  {
   "cell_type": "code",
   "execution_count": null,
   "metadata": {},
   "outputs": [],
   "source": [
    "import api.storage as st\n",
    "storage = st.Storage()\n",
    "%lprun -f storage.get_histdata_single storage.get_histdata_single('600805.SH')"
   ]
  },
  {
   "cell_type": "code",
   "execution_count": null,
   "metadata": {},
   "outputs": [],
   "source": [
    "import api.storage as st\n",
    "import core.realtime.explode as ex\n",
    "storage = st.Storage()\n",
    "time_share_explotion = ex.TimeShareExplosion()\n",
    "storage.update_realtime_storage()\n",
    "for code in tm.ts_mapping:\n",
    "    time_share_explotion.detect_timeshare_explode(storage, code)\n",
    "def traverse_all():\n",
    "    for code in tm.ts_mapping:\n",
    "        time_share_explotion.detect_timeshare_explode(storage, code)\n",
    "%lprun -f traverse_all traverse_all()"
   ]
  },
  {
   "cell_type": "code",
   "execution_count": null,
   "metadata": {},
   "outputs": [],
   "source": [
    "import core.realtime.neckline as nl\n",
    "import api.storage as st\n",
    "storage = st.Storage()\n",
    "storage.update_realtime_storage()\n",
    "neckline = nl.NeckLine(storage)\n",
    "neckline.update_local_price(['600789', '000078', '300342'], [])\n",
    "%lprun -f neckline.detect_long_neckline neckline.detect_long_neckline(['600789', '000078', '300342'], [])"
   ]
  },
  {
   "cell_type": "code",
   "execution_count": 3,
   "metadata": {},
   "outputs": [
    {
     "data": {
      "image/png": "[encoded data removed]",
      "text/plain": [
       "<Figure size 1152x720 with 1 Axes>"
      ]
     },
     "metadata": {
      "needs_background": "light"
     },
     "output_type": "display_data"
    }
   ],
   "source": [
    "import util.eval_freq as ef\n",
    "# ef.get_attack_distribution(\"/Users/pro/Nextcloud/log/20200210-utf8.log\")\n",
    "ef.get_attack_distribution(\"D:\\IdaoWatcher\\IdaoWatcher\\log\\\\20200218.log\")"
   ]
  },
  {
   "cell_type": "code",
   "execution_count": 21,
   "metadata": {},
   "outputs": [
    {
     "data": {
      "text/plain": [
       "(['2020-02-18 09:55:23.977400',\n",
       "  '2020-02-18 13:20:34.211400',\n",
       "  '2020-02-18 13:55:55.290400',\n",
       "  '2020-02-18 13:56:13.080400',\n",
       "  '2020-02-18 13:56:19.600400',\n",
       "  '2020-02-18 13:56:29.930400',\n",
       "  '2020-02-18 13:56:33.468400',\n",
       "  '2020-02-18 13:56:37.265400',\n",
       "  '2020-02-18 13:56:40.893400',\n",
       "  '2020-02-18 13:56:47.367400',\n",
       "  '2020-02-18 13:56:50.793400'],\n",
       " ['2020-02-18 09:39:44.347400',\n",
       "  '2020-02-18 09:40:16.363400',\n",
       "  '2020-02-18 09:51:33.422400',\n",
       "  '2020-02-18 09:55:22.768400',\n",
       "  '2020-02-18 10:43:07.459400',\n",
       "  '2020-02-18 13:02:18.108400',\n",
       "  '2020-02-18 13:20:33.337400',\n",
       "  '2020-02-18 13:23:03.011400',\n",
       "  '2020-02-18 13:55:54.876400',\n",
       "  '2020-02-18 13:56:08.762400',\n",
       "  '2020-02-18 13:56:12.243400',\n",
       "  '2020-02-18 13:56:19.141400',\n",
       "  '2020-02-18 13:56:29.505400',\n",
       "  '2020-02-18 13:56:33.043400',\n",
       "  '2020-02-18 13:56:36.509400',\n",
       "  '2020-02-18 13:56:39.984400',\n",
       "  '2020-02-18 13:56:46.919400',\n",
       "  '2020-02-18 13:56:50.402400',\n",
       "  '2020-02-18 13:57:00.873400',\n",
       "  '2020-02-18 13:57:11.342400',\n",
       "  '2020-02-18 13:57:59.957400',\n",
       "  '2020-02-18 13:58:52.146400',\n",
       "  '2020-02-18 13:58:55.656400',\n",
       "  '2020-02-18 14:00:29.647400',\n",
       "  '2020-02-18 14:01:35.798400',\n",
       "  '2020-02-18 14:28:32.210400',\n",
       "  '2020-02-18 14:28:49.665400',\n",
       "  '2020-02-18 14:29:07.072400',\n",
       "  '2020-02-18 14:29:24.468400',\n",
       "  '2020-02-18 14:29:52.290400',\n",
       "  '2020-02-18 14:29:59.242400'])"
      ]
     },
     "execution_count": 21,
     "metadata": {},
     "output_type": "execute_result"
    }
   ],
   "source": [
    "import util.eval_freq as ef\n",
    "ef.get_attack_time_list('600546',\"D:\\IdaoWatcher\\IdaoWatcher\\log\\\\20200218.log\")"
   ]
  },
  {
   "cell_type": "code",
   "execution_count": null,
   "metadata": {},
   "outputs": [],
   "source": [
    "import api.storage as st\n",
    "import core.realtime.open_high as oh\n",
    "storage = st.Storage()\n",
    "storage.update_realtime_storage()\n",
    "%lprun -f oh.detect_high_open_explosion oh.detect_high_open_explosion(storage, '603880')"
   ]
  },
  {
   "cell_type": "code",
   "execution_count": null,
   "metadata": {},
   "outputs": [],
   "source": []
  }
 ],
 "metadata": {
  "kernelspec": {
   "display_name": "Python 3",
   "language": "python",
   "name": "python3"
  },
  "language_info": {
   "codemirror_mode": {
    "name": "ipython",
    "version": 3
   },
   "file_extension": ".py",
   "mimetype": "text/x-python",
   "name": "python",
   "nbconvert_exporter": "python",
   "pygments_lexer": "ipython3",
   "version": "3.8.1"
  }
 },
 "nbformat": 4,
 "nbformat_minor": 4
}
