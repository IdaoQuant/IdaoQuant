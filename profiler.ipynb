{
 "cells": [
  {
   "cell_type": "code",
   "execution_count": null,
   "metadata": {},
   "outputs": [],
   "source": [
    "%load_ext line_profiler"
   ]
  },
  {
   "cell_type": "code",
   "execution_count": 1,
   "metadata": {},
   "outputs": [],
   "source": [
    "%load_ext autoreload\n",
    "%autoreload 2"
   ]
  },
  {
   "cell_type": "code",
   "execution_count": 2,
   "metadata": {},
   "outputs": [
    {
     "name": "stdout",
     "output_type": "stream",
     "text": [
      "env: TOKEN=301b9541eb8e20469a605257cb936b7ab0dd3e1b7cf54db0c3491615\n",
      "env: PROJPATH=/Users/pro/towh/TdxPlugin/\n",
      "env: OBJC_DISABLE_INITIALIZE_FORK_SAFETY=YES\n"
     ]
    }
   ],
   "source": [
    "%env TOKEN=301b9541eb8e20469a605257cb936b7ab0dd3e1b7cf54db0c3491615\n",
    "%env PROJPATH=/Users/pro/towh/TdxPlugin/\n",
    "%env OBJC_DISABLE_INITIALIZE_FORK_SAFETY=YES"
   ]
  },
  {
   "cell_type": "code",
   "execution_count": null,
   "metadata": {},
   "outputs": [],
   "source": [
    "import main as m\n",
    "main = m.Main()\n",
    "%lprun -f main.mainloop main.mainloop()"
   ]
  },
  {
   "cell_type": "code",
   "execution_count": null,
   "metadata": {},
   "outputs": [],
   "source": [
    "import api.storage as st\n",
    "storage = st.Storage()\n",
    "%lprun -f storage.get_histdata_single storage.get_histdata_single('600805.SH')"
   ]
  },
  {
   "cell_type": "code",
   "execution_count": null,
   "metadata": {},
   "outputs": [],
   "source": [
    "import api.storage as st\n",
    "import core.realtime.explode as ex\n",
    "storage = st.Storage()\n",
    "time_share_explotion = ex.TimeShareExplosion()\n",
    "storage.update_realtime_storage()\n",
    "for code in tm.ts_mapping:\n",
    "    time_share_explotion.detect_timeshare_explode(storage, code)\n",
    "def traverse_all():\n",
    "    for code in tm.ts_mapping:\n",
    "        time_share_explotion.detect_timeshare_explode(storage, code)\n",
    "%lprun -f traverse_all traverse_all()"
   ]
  },
  {
   "cell_type": "code",
   "execution_count": null,
   "metadata": {},
   "outputs": [],
   "source": [
    "import core.realtime.neckline as nl\n",
    "import api.storage as st\n",
    "storage = st.Storage()\n",
    "storage.update_realtime_storage()\n",
    "neckline = nl.NeckLine(storage)\n",
    "neckline.update_local_price(['600789', '000078', '300342'], [])\n",
    "%lprun -f neckline.detect_long_neckline neckline.detect_long_neckline(['600789', '000078', '300342'], [])"
   ]
  },
  {
   "cell_type": "code",
   "execution_count": 4,
   "metadata": {},
   "outputs": [
    {
     "data": {
      "image/png": "[encoded data removed]",
      "text/plain": [
       "<Figure size 1152x720 with 1 Axes>"
      ]
     },
     "metadata": {
      "needs_background": "light"
     },
     "output_type": "display_data"
    }
   ],
   "source": [
    "import util.eval_freq as ef\n",
    "# ef.get_attack_distribution(\"/Users/pro/Nextcloud/log/20200210-utf8.log\")\n",
    "ef.get_attack_distribution(\"D:\\IdaoWatcher\\IdaoWatcher\\log\\\\20200217.log\")"
   ]
  },
  {
   "cell_type": "code",
   "execution_count": 7,
   "metadata": {},
   "outputs": [
    {
     "data": {
      "text/plain": [
       "['2020-02-17 09:30:35.657000',\n",
       " '2020-02-17 09:30:40.219000',\n",
       " '2020-02-17 09:31:11.633000',\n",
       " '2020-02-17 09:31:36.840000',\n",
       " '2020-02-17 09:42:57.556000',\n",
       " '2020-02-17 09:49:35.220000',\n",
       " '2020-02-17 09:49:45.189000',\n",
       " '2020-02-17 09:52:30.621000',\n",
       " '2020-02-17 09:52:40.979000',\n",
       " '2020-02-17 09:52:48.769000',\n",
       " '2020-02-17 10:30:08.668000',\n",
       " '2020-02-17 10:31:30.316000',\n",
       " '2020-02-17 10:32:02.438000',\n",
       " '2020-02-17 10:40:12.800000',\n",
       " '2020-02-17 10:40:36.940000',\n",
       " '2020-02-17 10:45:54.568000',\n",
       " '2020-02-17 10:47:47.278000',\n",
       " '2020-02-17 10:47:54.624000',\n",
       " '2020-02-17 10:47:57.813000',\n",
       " '2020-02-17 10:48:08.586000',\n",
       " '2020-02-17 10:48:15.255000',\n",
       " '2020-02-17 10:48:18.718000',\n",
       " '2020-02-17 10:48:29.269000',\n",
       " '2020-02-17 10:48:36.190000',\n",
       " '2020-02-17 10:48:46.754000',\n",
       " '2020-02-17 10:49:00.985000',\n",
       " '2020-02-17 10:49:08.733000',\n",
       " '2020-02-17 10:49:22.457000',\n",
       " '2020-02-17 11:00:14.050000',\n",
       " '2020-02-17 11:01:01.190000',\n",
       " '2020-02-17 11:01:14.769000',\n",
       " '2020-02-17 11:07:43.925000',\n",
       " '2020-02-17 11:08:15.352000',\n",
       " '2020-02-17 11:08:43.354000',\n",
       " '2020-02-17 11:09:07.853000',\n",
       " '2020-02-17 11:09:18.408000',\n",
       " '2020-02-17 11:24:11.698000',\n",
       " '2020-02-17 13:00:46.319000',\n",
       " '2020-02-17 13:01:00.368000',\n",
       " '2020-02-17 13:01:07.593000',\n",
       " '2020-02-17 14:35:12.283000',\n",
       " '2020-02-17 14:36:08.416000',\n",
       " '2020-02-17 14:36:47.002000',\n",
       " '2020-02-17 14:37:00.635000',\n",
       " '2020-02-17 14:37:04.178000',\n",
       " '2020-02-17 14:37:07.665000',\n",
       " '2020-02-17 14:37:49.417000']"
      ]
     },
     "execution_count": 7,
     "metadata": {},
     "output_type": "execute_result"
    }
   ],
   "source": [
    "import util.eval_freq as ef\n",
    "ef.get_attack_time_list('002837',\"D:\\IdaoWatcher\\IdaoWatcher\\log\\\\20200217.log\")"
   ]
  },
  {
   "cell_type": "code",
   "execution_count": null,
   "metadata": {},
   "outputs": [],
   "source": [
    "import api.storage as st\n",
    "import core.realtime.open_high as oh\n",
    "storage = st.Storage()\n",
    "storage.update_realtime_storage()\n",
    "%lprun -f oh.detect_high_open_explosion oh.detect_high_open_explosion(storage, '603880')"
   ]
  }
 ],
 "metadata": {
  "kernelspec": {
   "display_name": "Python 3",
   "language": "python",
   "name": "python3"
  },
  "language_info": {
   "codemirror_mode": {
    "name": "ipython",
    "version": 3
   },
   "file_extension": ".py",
   "mimetype": "text/x-python",
   "name": "python",
   "nbconvert_exporter": "python",
   "pygments_lexer": "ipython3",
   "version": "3.8.1"
  }
 },
 "nbformat": 4,
 "nbformat_minor": 4
}
