{
 "cells": [
  {
   "cell_type": "code",
   "execution_count": null,
   "metadata": {},
   "outputs": [],
   "source": [
    "%load_ext line_profiler"
   ]
  },
  {
   "cell_type": "code",
   "execution_count": null,
   "metadata": {},
   "outputs": [],
   "source": [
    "%load_ext autoreload\n",
    "%autoreload 2"
   ]
  },
  {
   "cell_type": "code",
   "execution_count": null,
   "metadata": {},
   "outputs": [],
   "source": [
    "%env PROJPATH=/Users/pro/towh/TdxPlugin/\n",
    "%env OBJC_DISABLE_INITIALIZE_FORK_SAFETY=YES"
   ]
  },
  {
   "cell_type": "code",
   "execution_count": null,
   "metadata": {},
   "outputs": [],
   "source": [
    "import main as m\n",
    "main = m.Main()\n",
    "%lprun -f main.mainloop main.mainloop()"
   ]
  },
  {
   "cell_type": "code",
   "execution_count": null,
   "metadata": {},
   "outputs": [],
   "source": [
    "import api.storage as st\n",
    "storage = st.Storage()\n",
    "%lprun -f storage.get_histdata_single storage.get_histdata_single('600805.SH')"
   ]
  },
  {
   "cell_type": "code",
   "execution_count": null,
   "metadata": {},
   "outputs": [],
   "source": [
    "import api.storage as st\n",
    "import core.realtime.explode as ex\n",
    "storage = st.Storage()\n",
    "time_share_explotion = ex.TimeShareExplosion()\n",
    "storage.update_realtime_storage()\n",
    "for code in tm.ts_mapping:\n",
    "    time_share_explotion.detect_timeshare_explode(storage, code)\n",
    "def traverse_all():\n",
    "    for code in tm.ts_mapping:\n",
    "        time_share_explotion.detect_timeshare_explode(storage, code)\n",
    "%lprun -f traverse_all traverse_all()"
   ]
  },
  {
   "cell_type": "code",
   "execution_count": null,
   "metadata": {},
   "outputs": [],
   "source": [
    "import core.realtime.neckline as nl\n",
    "import api.storage as st\n",
    "storage = st.Storage()\n",
    "storage.update_realtime_storage()\n",
    "neckline = nl.NeckLine(storage)\n",
    "neckline.update_local_price(['600789', '000078', '300342'], [])\n",
    "%lprun -f neckline.detect_long_neckline neckline.detect_long_neckline(['600789', '000078', '300342'], [])"
   ]
  },
  {
   "cell_type": "code",
   "execution_count": null,
   "metadata": {},
   "outputs": [],
   "source": [
    "import util.eval_freq as ef\n",
    "ef.get_attack_distribution(\"/Users/pro/Nextcloud/log/20200207-utf8.log\")"
   ]
  },
  {
   "cell_type": "code",
   "execution_count": null,
   "metadata": {},
   "outputs": [],
   "source": [
    "import api.storage as st\n",
    "import core.realtime.open_high as oh\n",
    "storage = st.Storage()\n",
    "storage.update_realtime_storage()\n",
    "%lprun -f oh.detect_high_open_explosion oh.detect_high_open_explosion(storage, '603880')"
   ]
  },
  {
   "cell_type": "code",
   "execution_count": null,
   "metadata": {},
   "outputs": [],
   "source": []
  }
 ],
 "metadata": {
  "kernelspec": {
   "display_name": "venv",
   "language": "python",
   "name": "venv"
  },
  "language_info": {
   "codemirror_mode": {
    "name": "ipython",
    "version": 3
   },
   "file_extension": ".py",
   "mimetype": "text/x-python",
   "name": "python",
   "nbconvert_exporter": "python",
   "pygments_lexer": "ipython3",
   "version": "3.7.4"
  }
 },
 "nbformat": 4,
 "nbformat_minor": 4
}
