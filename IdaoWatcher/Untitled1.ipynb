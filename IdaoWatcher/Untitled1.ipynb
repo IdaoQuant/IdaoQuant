{
 "cells": [
  {
   "cell_type": "code",
   "execution_count": 7,
   "metadata": {},
   "outputs": [
    {
     "name": "stdout",
     "output_type": "stream",
     "text": [
      "0->01->10\n",
      "2->20\n",
      "3->305->50\n",
      "\n",
      "\n"
     ]
    },
    {
     "data": {
      "text/plain": [
       "[30, 80, 90, 50, 120]"
      ]
     },
     "execution_count": 7,
     "metadata": {},
     "output_type": "execute_result"
    }
   ],
   "source": [
    "from multiprocessing.pool import ThreadPool\n",
    "scale = 10\n",
    "items_before = [(0,3), (1,8), (2,9), (3,5), (5,12)]\n",
    "def process(x, y):\n",
    "    print(str(x) + '->' + str(scale * x))\n",
    "    return scale * y\n",
    "\n",
    "p = ThreadPool()\n",
    "items_after = p.starmap(process, items_before)\n",
    "items_after"
   ]
  },
  {
   "cell_type": "code",
   "execution_count": null,
   "metadata": {},
   "outputs": [],
   "source": []
  }
 ],
 "metadata": {
  "kernelspec": {
   "display_name": "Python 3",
   "language": "python",
   "name": "python3"
  },
  "language_info": {
   "codemirror_mode": {
    "name": "ipython",
    "version": 3
   },
   "file_extension": ".py",
   "mimetype": "text/x-python",
   "name": "python",
   "nbconvert_exporter": "python",
   "pygments_lexer": "ipython3",
   "version": "3.7.4"
  }
 },
 "nbformat": 4,
 "nbformat_minor": 4
}
